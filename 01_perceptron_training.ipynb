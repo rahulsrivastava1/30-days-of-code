{
  "nbformat": 4,
  "nbformat_minor": 0,
  "metadata": {
    "colab": {
      "name": "Copy of 01_perceptron_training.ipynb",
      "provenance": [],
      "authorship_tag": "ABX9TyNOkfqbltb2KLJPE/M+iUv+",
      "include_colab_link": true
    },
    "kernelspec": {
      "display_name": "Python 3",
      "name": "python3"
    },
    "language_info": {
      "name": "python"
    }
  },
  "cells": [
    {
      "cell_type": "markdown",
      "metadata": {
        "id": "view-in-github",
        "colab_type": "text"
      },
      "source": [
        "<a href=\"https://colab.research.google.com/github/rahulsrivastava1/30-days-of-code/blob/master/01_perceptron_training.ipynb\" target=\"_parent\"><img src=\"https://colab.research.google.com/assets/colab-badge.svg\" alt=\"Open In Colab\"/></a>"
      ]
    },
    {
      "cell_type": "markdown",
      "metadata": {
        "id": "DCQYwRG5jP_3"
      },
      "source": [
        "## Problem Statement\n",
        "\n",
        "Teach model to predict on the following equation :-\n",
        "\n",
        "y=10x"
      ]
    },
    {
      "cell_type": "code",
      "metadata": {
        "id": "XwcSV_XkaUYw"
      },
      "source": [
        ""
      ],
      "execution_count": null,
      "outputs": []
    }
  ]
}